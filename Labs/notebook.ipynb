{
 "cells": [
  {
   "cell_type": "markdown",
   "metadata": {
    "dc": {
     "key": "8c3ba502e2"
    },
    "deletable": false,
    "editable": false,
    "run_control": {
     "frozen": true
    },
    "tags": [
     "context"
    ]
   },
   "source": [
    "## 1. This is a Jupyter notebook!\n",
    "<p>A <em>Jupyter notebook</em> is a document that contains text cells (what you're reading right now) and code cells. What is special with a notebook is that it's <em>interactive</em>: You can change or add code cells, and then <em>run</em> a cell by first selecting it and then clicking the <em>run cell</em> button above ( <strong>▶|</strong> Run ) or hitting <code>ctrl + enter</code>. </p>\n",
    "<p><img src=\"https://s3.amazonaws.com/assets.datacamp.com/production/project_33/datasets/run_code_cell_image.png\" alt=\"\"></p>\n",
    "<p>The result will be displayed directly in the notebook. You <em>could</em> use a notebook as a simple calculator. For example, it's estimated that on average 256 children were born every minute in 2016. The code cell below calculates how many children were born on average on a day. </p>"
   ]
  },
  {
   "cell_type": "code",
   "execution_count": 35,
   "metadata": {
    "dc": {
     "key": "8c3ba502e2"
    },
    "tags": [
     "sample_code"
    ]
   },
   "outputs": [
    {
     "data": {
      "text/plain": [
       "368640"
      ]
     },
     "execution_count": 35,
     "metadata": {},
     "output_type": "execute_result"
    }
   ],
   "source": [
    "# I'm a code cell, click me, then run me!\n",
    "256 * 60 * 24 # Children × minutes × hours"
   ]
  },
  {
   "cell_type": "markdown",
   "metadata": {
    "dc": {
     "key": "b5ed313abb"
    },
    "deletable": false,
    "editable": false,
    "run_control": {
     "frozen": true
    },
    "tags": [
     "context"
    ]
   },
   "source": [
    "## 2. Put any code in code cells\n",
    "<p>But a code cell can contain much more than a simple one-liner! This is a notebook running python and you can put <em>any</em> python code in a code cell (but notebooks can run other languages too, like R). Below is a code cell where we define a whole new function (<code>greet</code>). To show the output of <code>greet</code> we run it last in the code cell as the last value is always printed out. </p>"
   ]
  },
  {
   "cell_type": "code",
   "execution_count": 37,
   "metadata": {
    "dc": {
     "key": "b5ed313abb"
    },
    "tags": [
     "sample_code"
    ]
   },
   "outputs": [
    {
     "data": {
      "text/plain": [
       "'My name is Natsheh, ABed Natsheh!'"
      ]
     },
     "execution_count": 37,
     "metadata": {},
     "output_type": "execute_result"
    }
   ],
   "source": [
    "def greet(first_name, last_name):\n",
    "    greeting = 'My name is ' + last_name + ', ' + first_name + ' ' + last_name + '!'\n",
    "    return greeting\n",
    "\n",
    "# Replace with your first and last name.\n",
    "# That is, unless your name is already James Bond.\n",
    "greet('ABed', 'Natsheh')"
   ]
  },
  {
   "cell_type": "markdown",
   "metadata": {
    "dc": {
     "key": "d71cd3b937"
    },
    "deletable": false,
    "editable": false,
    "run_control": {
     "frozen": true
    },
    "tags": [
     "context"
    ]
   },
   "source": [
    "## 3. Jupyter notebooks ♡ data\n",
    "<p>We've seen that notebooks can display basic objects such as numbers and strings. But notebooks also support the objects used in data science, which makes them great for interactive data analysis!</p>\n",
    "<p>For example, below we create a <code>pandas</code> DataFrame by reading in a <code>csv</code>-file with the average global temperature for the years 1850 to 2016. If we look at the <code>head</code> of this DataFrame the notebook will render it as a nice-looking table.</p>"
   ]
  },
  {
   "cell_type": "code",
   "execution_count": 39,
   "metadata": {
    "dc": {
     "key": "d71cd3b937"
    },
    "tags": [
     "sample_code"
    ]
   },
   "outputs": [
    {
     "name": "stdout",
     "output_type": "stream",
     "text": [
      "<class 'pandas.core.frame.DataFrame'>\n",
      "RangeIndex: 167 entries, 0 to 166\n",
      "Data columns (total 2 columns):\n",
      "year               167 non-null int64\n",
      "degrees_celsius    167 non-null float64\n",
      "dtypes: float64(1), int64(1)\n",
      "memory usage: 2.7 KB\n"
     ]
    }
   ],
   "source": [
    "# Importing the pandas module\n",
    "import pandas as pd\n",
    "\n",
    "# Reading in the global temperature data\n",
    "global_temp = pd.read_csv('datasets/global_temperature.csv')\n",
    "\n",
    "# Take a look at the first datapoints\n",
    "# ... YOUR CODE FOR TASK 3 ...\n",
    "global_temp.info()"
   ]
  },
  {
   "cell_type": "markdown",
   "metadata": {
    "dc": {
     "key": "4c4219b8e7"
    },
    "deletable": false,
    "editable": false,
    "run_control": {
     "frozen": true
    },
    "tags": [
     "context"
    ]
   },
   "source": [
    "## 4. Jupyter notebooks ♡ plots\n",
    "<p>Tables are nice but — as the saying goes — <em>\"a plot can show a thousand data points\"</em>. Notebooks handle plots as well, but it requires a bit of magic. Here <em>magic</em> does not refer to any arcane rituals but to so-called \"magic commands\" that affect how the Jupyter notebook works. Magic commands start with either <code>%</code> or <code>%%</code> and the command we need to nicely display plots inline is <code>%matplotlib inline</code>. With this <em>magic</em> in place, all plots created in code cells will automatically be displayed inline. </p>\n",
    "<p>Let's take a look at the global temperature for the last 150 years.</p>"
   ]
  },
  {
   "cell_type": "code",
   "execution_count": 41,
   "metadata": {
    "dc": {
     "key": "4c4219b8e7"
    },
    "tags": [
     "sample_code"
    ]
   },
   "outputs": [
    {
     "data": {
      "text/plain": [
       "<matplotlib.text.Text at 0x7fc41199e978>"
      ]
     },
     "execution_count": 41,
     "metadata": {},
     "output_type": "execute_result"
    },
    {
     "data": {
      "image/png": "[encoded data removed]",
      "text/plain": [
       "<matplotlib.figure.Figure at 0x7fc4119d5be0>"
      ]
     },
     "metadata": {},
     "output_type": "display_data"
    }
   ],
   "source": [
    "# Setting up inline plotting using jupyter notebook \"magic\"\n",
    "%matplotlib inline\n",
    "\n",
    "import matplotlib.pyplot as plt\n",
    "\n",
    "# Plotting global temperature in degrees celsius by year\n",
    "plt.plot(global_temp['year'], global_temp['degrees_celsius'])\n",
    "\n",
    "# Adding some nice labels \n",
    "plt.xlabel('year') \n",
    "plt.ylabel('tempreture') "
   ]
  },
  {
   "cell_type": "markdown",
   "metadata": {
    "dc": {
     "key": "1df3b07b44"
    },
    "deletable": false,
    "editable": false,
    "run_control": {
     "frozen": true
    },
    "tags": [
     "context"
    ]
   },
   "source": [
    "## 5. Jupyter notebooks ♡ a lot more\n",
    "<p>Tables and plots are the most common outputs when doing data analysis, but Jupyter notebooks can render many more types of outputs such as sound, animation, video, etc. Yes, almost anything that can be shown in a modern web browser. This also makes it possible to include <em>interactive widgets</em> directly in the notebook!</p>\n",
    "<p>For example, this (slightly complicated) code will create an interactive map showing the locations of the three largest smartphone companies in 2016. You can move and zoom the map, and you can click the markers for more info! </p>"
   ]
  },
  {
   "cell_type": "code",
   "execution_count": 1,
   "metadata": {
    "dc": {
     "key": "1df3b07b44"
    },
    "tags": [
     "sample_code"
    ]
   },
   "outputs": [
    {
     "data": {
      "text/html": [
       "<div style=\"width:100%;\"><div style=\"position:relative;width:100%;height:0;padding-bottom:60%;\"><iframe src=\"about:blank\" style=\"position:absolute;width:100%;height:100%;left:0;top:0;border:none !important;\" data-html=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 onload=\"this.contentDocument.open();this.contentDocument.write(atob(this.getAttribute('data-html')));this.contentDocument.close();\" allowfullscreen webkitallowfullscreen mozallowfullscreen></iframe></div></div>"
      ],
      "text/plain": [
       "<folium.folium.Map at 0x119999090>"
      ]
     },
     "execution_count": 1,
     "metadata": {},
     "output_type": "execute_result"
    }
   ],
   "source": [
    "# Making a map using the folium module\n",
    "import folium\n",
    "phone_map = folium.Map()\n",
    "\n",
    "# Top three smart phone companies by market share in 2016\n",
    "companies = [\n",
    "    {'loc': [37.4970,  127.0266], 'label': 'Samsung: 20.5%%'},\n",
    "    {'loc': [37.3318, -122.0311], 'label': 'Apple: 14.4%'},\n",
    "    {'loc': [22.5431,  114.0579], 'label': 'Huawei: 8.9%'}] \n",
    "\n",
    "# Adding markers to the map\n",
    "for company in companies:\n",
    "    marker = folium.Marker(location=company['loc'], popup=company['label'])\n",
    "    marker.add_to(phone_map)\n",
    "\n",
    "# The last object in the cell always gets shown in the notebook\n",
    "phone_map"
   ]
  },
  {
   "cell_type": "markdown",
   "metadata": {
    "dc": {
     "key": "9ccef156d2"
    },
    "deletable": false,
    "editable": false,
    "run_control": {
     "frozen": true
    },
    "tags": [
     "context"
    ]
   },
   "source": [
    "## 6. Goodbye for now!\n",
    "<p>This was just a short introduction to Jupyter notebooks, an open source technology that is increasingly used for data science and analysis. I hope you enjoyed it! :)</p>"
   ]
  },
  {
   "cell_type": "code",
   "execution_count": 45,
   "metadata": {
    "collapsed": true,
    "dc": {
     "key": "9ccef156d2"
    },
    "tags": [
     "sample_code"
    ]
   },
   "outputs": [],
   "source": [
    "# Are you ready to get started with  DataCamp projects?\n",
    "I_am_ready = True;\n",
    "\n",
    "# Ps. \n",
    "# Feel free to try out any other stuff in this notebook. \n",
    "# It's all yours!"
   ]
  }
 ],
 "metadata": {
  "kernelspec": {
   "display_name": "Python 3",
   "language": "python",
   "name": "python3"
  },
  "language_info": {
   "codemirror_mode": {
    "name": "ipython",
    "version": 3
   },
   "file_extension": ".py",
   "mimetype": "text/x-python",
   "name": "python",
   "nbconvert_exporter": "python",
   "pygments_lexer": "ipython3",
   "version": "3.7.4"
  }
 },
 "nbformat": 4,
 "nbformat_minor": 2
}
